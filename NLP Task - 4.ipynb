{
 "cells": [
  {
   "cell_type": "markdown",
   "id": "b317d2f0-3a52-4390-80b3-ed8e1f007006",
   "metadata": {},
   "source": [
    "Frequency Distribution using NLTK"
   ]
  },
  {
   "cell_type": "code",
   "execution_count": 14,
   "id": "e72013c4-8689-487c-a59b-8d6c2e594072",
   "metadata": {},
   "outputs": [],
   "source": [
    "import nltk\n",
    "import pandas as pd"
   ]
  },
  {
   "cell_type": "markdown",
   "id": "9b1993d2-f59f-4733-89de-7f523b97ce18",
   "metadata": {},
   "source": [
    "Random text from wiki"
   ]
  },
  {
   "cell_type": "code",
   "execution_count": 15,
   "id": "63f9c255-cf44-470c-a02f-2dcda518d5f7",
   "metadata": {},
   "outputs": [],
   "source": [
    "text1=\"Artificial intelligence and music (AIM) is a common subject in the International Computer Music Conference, the Computing Society Conference[1] and the International Joint Conference on Artificial Intelligence. The first International Computer Music Conference (ICMC) was held in 1974 at Michigan State University.[2] Current research includes the application of AI in music composition, performance, theory and digital sound processing.A key part of this field is the development of music software programs which use AI to produce music.[3] As with applications in other fields, AI in music also simulates mental tasks. A prominent feature is the capability of an AI algorithm to learn based on past data, such as in computer accompaniment technology, wherein the AI is capable of listening to a human performer and performing accompaniment.[4] Artificial intelligence also drives interactive composition technology, wherein a computer composes music in response to a live performance. There are other AI applications in music that cover not only music composition, production, and performance but also how music is marketed and consumed. Several music player programs have also been developed to use voice recognition and natural language processing technology for music voice control.\"# get a random wiki text"
   ]
  },
  {
   "cell_type": "markdown",
   "id": "c9c01f5f-ae06-40e1-9361-53c105193ffc",
   "metadata": {},
   "source": [
    "Finding Frequency Distribution using FreqDist from nltk "
   ]
  },
  {
   "cell_type": "code",
   "execution_count": 16,
   "id": "508e67cc-cebe-4b7a-899a-54237217b60e",
   "metadata": {},
   "outputs": [],
   "source": [
    "fd=nltk.FreqDist(text1.split())"
   ]
  },
  {
   "cell_type": "code",
   "execution_count": 17,
   "id": "83d0aca5-c23d-4bf8-a73e-9dbbbcf0fb08",
   "metadata": {},
   "outputs": [],
   "source": [
    "FreqDist=pd.DataFrame(list(fd.items()), columns = [\"Word\",\"Frequency\"]) \n"
   ]
  },
  {
   "cell_type": "markdown",
   "id": "84969f7f-afca-45c7-8c6f-5dbe5838da46",
   "metadata": {},
   "source": [
    "Frequency Distribution : "
   ]
  },
  {
   "cell_type": "code",
   "execution_count": 18,
   "id": "bade65dc-4f25-4e55-a8ad-db84a68516f4",
   "metadata": {},
   "outputs": [
    {
     "name": "stdout",
     "output_type": "stream",
     "text": [
      "             Word  Frequency\n",
      "0      Artificial          3\n",
      "1    intelligence          2\n",
      "2             and          7\n",
      "3           music         10\n",
      "4           (AIM)          1\n",
      "..            ...        ...\n",
      "114      language          1\n",
      "115    processing          1\n",
      "116    technology          1\n",
      "117           for          1\n",
      "118      control.          1\n",
      "\n",
      "[119 rows x 2 columns]\n"
     ]
    }
   ],
   "source": [
    "print(FreqDist)"
   ]
  },
  {
   "cell_type": "code",
   "execution_count": null,
   "id": "0c97a670-27c4-451c-89f1-379981f199a0",
   "metadata": {},
   "outputs": [],
   "source": []
  },
  {
   "cell_type": "markdown",
   "id": "7d1f59b5-0006-4573-b8e9-9d4489d225ad",
   "metadata": {},
   "source": [
    "Conditional Frequency Distribution"
   ]
  },
  {
   "cell_type": "code",
   "execution_count": 21,
   "id": "f78d950d-7c34-43f1-a4bf-cfedc18288c0",
   "metadata": {},
   "outputs": [],
   "source": [
    "from nltk.probability import ConditionalFreqDist\n",
    "cfd=ConditionalFreqDist((len(word),word) for word in text1.split())\n",
    "\n"
   ]
  },
  {
   "cell_type": "code",
   "execution_count": 22,
   "id": "b8f25d25-a8b8-4b7e-bb4d-194899c9b6ff",
   "metadata": {},
   "outputs": [
    {
     "name": "stdout",
     "output_type": "stream",
     "text": [
      "    Word                                          Frequency\n",
      "0     10  {'Artificial': 3, 'Conference': 2, 'capability...\n",
      "1     12  {'intelligence': 2, 'composition,': 2, 'perfor...\n",
      "2      3  {'and': 7, 'the': 7, 'The': 1, 'was': 1, 'key'...\n",
      "3      5  {'music': 10, '(AIM)': 1, 'Music': 2, 'Joint':...\n",
      "4      2  {'is': 5, 'in': 8, 'on': 2, 'at': 1, 'of': 5, ...\n",
      "5      1                                   {'a': 4, 'A': 1}\n",
      "6      6  {'common': 1, '(ICMC)': 1, 'theory': 1, 'menta...\n",
      "7      7  {'subject': 1, 'Society': 1, 'Current': 1, 'di...\n",
      "8     13  {'International': 3, 'Conference[1]': 1, 'Inte...\n",
      "9      8  {'Computer': 2, 'Michigan': 1, 'research': 1, ...\n",
      "10    11  {'Conference,': 1, 'application': 1, 'developm...\n",
      "11     9  {'Computing': 1, 'music.[3]': 1, 'simulates': ...\n",
      "12     4  {'held': 1, '1974': 1, 'part': 1, 'this': 1, '...\n",
      "13    14                              {'University.[2]': 1}\n",
      "14    17                           {'accompaniment.[4]': 1}\n"
     ]
    }
   ],
   "source": [
    "CFreqDist=pd.DataFrame(list(cfd.items()), columns = [\"Word\",\"Frequency\"]) \n",
    "print(CFreqDist)"
   ]
  },
  {
   "cell_type": "code",
   "execution_count": null,
   "id": "1d497b8d-246b-453e-9242-7b648e2d59c3",
   "metadata": {},
   "outputs": [],
   "source": []
  },
  {
   "cell_type": "code",
   "execution_count": null,
   "id": "2573b4a4-1d73-4fd7-bcaa-1651e1c0254e",
   "metadata": {},
   "outputs": [],
   "source": []
  },
  {
   "cell_type": "code",
   "execution_count": null,
   "id": "1dd03d25-82ec-4519-9468-cb2c14412fc8",
   "metadata": {},
   "outputs": [],
   "source": []
  }
 ],
 "metadata": {
  "kernelspec": {
   "display_name": "Python 3 (ipykernel)",
   "language": "python",
   "name": "python3"
  },
  "language_info": {
   "codemirror_mode": {
    "name": "ipython",
    "version": 3
   },
   "file_extension": ".py",
   "mimetype": "text/x-python",
   "name": "python",
   "nbconvert_exporter": "python",
   "pygments_lexer": "ipython3",
   "version": "3.10.4"
  }
 },
 "nbformat": 4,
 "nbformat_minor": 5
}
