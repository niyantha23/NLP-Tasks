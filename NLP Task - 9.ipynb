{
 "cells": [
  {
   "cell_type": "markdown",
   "id": "93df1abe-8996-4b43-81d6-85d213ddcfeb",
   "metadata": {},
   "source": [
    "NLP Task - 9"
   ]
  },
  {
   "cell_type": "markdown",
   "id": "fdaa0f6a-1d94-43de-bd54-d0c8f2128315",
   "metadata": {},
   "source": [
    "Chinese Segmentation Usign Jieba"
   ]
  },
  {
   "cell_type": "code",
   "execution_count": 1,
   "id": "9fd0288e-492c-4c3d-92ca-79712076ac25",
   "metadata": {},
   "outputs": [],
   "source": [
    "import jieba\n"
   ]
  },
  {
   "cell_type": "code",
   "execution_count": 2,
   "id": "1a146b15-52f2-4164-807b-1948b4319f15",
   "metadata": {},
   "outputs": [
    {
     "name": "stderr",
     "output_type": "stream",
     "text": [
      "Building prefix dict from the default dictionary ...\n",
      "Loading model from cache C:\\Users\\niyan\\AppData\\Local\\Temp\\jieba.cache\n",
      "Loading model cost 0.619 seconds.\n",
      "Prefix dict has been built successfully.\n"
     ]
    },
    {
     "name": "stdout",
     "output_type": "stream",
     "text": [
      "我们 能 在 周二 前 看到 你 演讲 的 全文 吗\n"
     ]
    }
   ],
   "source": [
    "seg=jieba.cut(\"我们能在周二前看到你演讲的全文吗\")#Enter chinese text\n",
    "print(\" \".join(seg))"
   ]
  },
  {
   "cell_type": "code",
   "execution_count": null,
   "id": "13145e53-984a-4718-9144-a8b1ac69f4a4",
   "metadata": {},
   "outputs": [],
   "source": []
  }
 ],
 "metadata": {
  "kernelspec": {
   "display_name": "Python 3 (ipykernel)",
   "language": "python",
   "name": "python3"
  },
  "language_info": {
   "codemirror_mode": {
    "name": "ipython",
    "version": 3
   },
   "file_extension": ".py",
   "mimetype": "text/x-python",
   "name": "python",
   "nbconvert_exporter": "python",
   "pygments_lexer": "ipython3",
   "version": "3.10.4"
  }
 },
 "nbformat": 4,
 "nbformat_minor": 5
}
