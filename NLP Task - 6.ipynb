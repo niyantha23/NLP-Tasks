{
 "cells": [
  {
   "cell_type": "markdown",
   "id": "9da69028-ed88-40f9-beb5-20bbbb383e70",
   "metadata": {},
   "source": [
    "NLP TASK - 6"
   ]
  },
  {
   "cell_type": "code",
   "execution_count": 3,
   "id": "4ef1cf21-5a05-46fb-872d-ee7dc6ca2522",
   "metadata": {},
   "outputs": [],
   "source": [
    "import nltk"
   ]
  },
  {
   "cell_type": "markdown",
   "id": "8cf949fc-5e03-4215-9d4d-469a652553fb",
   "metadata": {},
   "source": [
    "Porter Stemming"
   ]
  },
  {
   "cell_type": "code",
   "execution_count": 6,
   "id": "f0d6d33b-07a7-428e-80e7-1c504b011a6b",
   "metadata": {},
   "outputs": [],
   "source": [
    "from nltk.stem import PorterStemmer\n",
    "stemmerporter=PorterStemmer()"
   ]
  },
  {
   "cell_type": "code",
   "execution_count": 8,
   "id": "b505a351-4a5c-4af0-a479-1ae50b079ff0",
   "metadata": {},
   "outputs": [
    {
     "data": {
      "text/plain": [
       "'morn'"
      ]
     },
     "execution_count": 8,
     "metadata": {},
     "output_type": "execute_result"
    }
   ],
   "source": [
    "#stemmerporter.stem(\"Happiness\")\n",
    "stemmerporter.stem(\"Morning\") # should not get rid of the ing here\n"
   ]
  },
  {
   "cell_type": "markdown",
   "id": "7077c1b2-2178-435f-9d9d-d90cf8cf5543",
   "metadata": {},
   "source": [
    "Lancaster Stemming"
   ]
  },
  {
   "cell_type": "code",
   "execution_count": 26,
   "id": "317d7c9e-09bd-44aa-8ccd-cc9877ba1e32",
   "metadata": {},
   "outputs": [],
   "source": [
    "from nltk.stem import LancasterStemmer\n",
    "stemmerLancaster=LancasterStemmer()"
   ]
  },
  {
   "cell_type": "code",
   "execution_count": 29,
   "id": "000c09f1-ddb4-498e-881c-6671eb727686",
   "metadata": {},
   "outputs": [
    {
     "data": {
      "text/plain": [
       "'happy'"
      ]
     },
     "execution_count": 29,
     "metadata": {},
     "output_type": "execute_result"
    }
   ],
   "source": [
    "stemmerLancaster.stem('Happiness')"
   ]
  },
  {
   "cell_type": "markdown",
   "id": "6fcf333d-1baf-4ef6-b563-e6907e66f28a",
   "metadata": {},
   "source": [
    "Comparision b/w Lancaster and porter"
   ]
  },
  {
   "cell_type": "code",
   "execution_count": 31,
   "id": "9a86be6c-aa09-4152-a096-a18dcfdae5d7",
   "metadata": {},
   "outputs": [
    {
     "data": {
      "text/plain": [
       "'cam'"
      ]
     },
     "execution_count": 31,
     "metadata": {},
     "output_type": "execute_result"
    }
   ],
   "source": [
    "stemmerLancaster.stem('Came')"
   ]
  },
  {
   "cell_type": "code",
   "execution_count": 32,
   "id": "2727d8d5-c976-4a9b-8dd3-317bfdd8904b",
   "metadata": {},
   "outputs": [
    {
     "data": {
      "text/plain": [
       "'came'"
      ]
     },
     "execution_count": 32,
     "metadata": {},
     "output_type": "execute_result"
    }
   ],
   "source": [
    "stemmerporter.stem(\"Came\")"
   ]
  },
  {
   "cell_type": "code",
   "execution_count": 33,
   "id": "1a7dccc5-6704-4cba-b079-3fce0f32b2d9",
   "metadata": {},
   "outputs": [
    {
     "name": "stdout",
     "output_type": "stream",
     "text": [
      "Word : Came\n"
     ]
    }
   ],
   "source": [
    "print(\"Word : Came\")"
   ]
  },
  {
   "cell_type": "markdown",
   "id": "52de451a-6aa7-424b-a341-937bf263bb37",
   "metadata": {},
   "source": [
    "Regex Stemmer"
   ]
  },
  {
   "cell_type": "code",
   "execution_count": 11,
   "id": "b36bf815-33e3-444b-94fa-140b8e3924dd",
   "metadata": {},
   "outputs": [],
   "source": [
    "from nltk.stem import RegexpStemmer\n",
    "stemmerregexp=RegexpStemmer(\"ing\")"
   ]
  },
  {
   "cell_type": "code",
   "execution_count": 12,
   "id": "3b6a7be3-4917-456b-90d4-431c92c942be",
   "metadata": {},
   "outputs": [
    {
     "data": {
      "text/plain": [
       "'s'"
      ]
     },
     "execution_count": 12,
     "metadata": {},
     "output_type": "execute_result"
    }
   ],
   "source": [
    "stemmerregexp.stem('singing')"
   ]
  },
  {
   "cell_type": "markdown",
   "id": "e08d6fd1-dd16-4353-8733-b98a8587ff68",
   "metadata": {},
   "source": [
    "Snowball Stemmer"
   ]
  },
  {
   "cell_type": "code",
   "execution_count": 24,
   "id": "2283ca15-6e34-48d9-b53b-8278eab29468",
   "metadata": {},
   "outputs": [
    {
     "name": "stdout",
     "output_type": "stream",
     "text": [
      "N.o of languages supported by Snowball Stemmer : \n",
      "16\n"
     ]
    }
   ],
   "source": [
    "from nltk.stem  import SnowballStemmer\n",
    "\n",
    "print(\"N.o of languages supported by Snowball Stemmer : \") \n",
    "print(len(SnowballStemmer.languages))"
   ]
  },
  {
   "cell_type": "code",
   "execution_count": 18,
   "id": "068755c8-0fb5-4d44-9109-9177404db390",
   "metadata": {},
   "outputs": [
    {
     "data": {
      "text/plain": [
       "'mang'"
      ]
     },
     "execution_count": 18,
     "metadata": {},
     "output_type": "execute_result"
    }
   ],
   "source": [
    "stemmerSnowball= SnowballStemmer('french')\n",
    "stemmerSnowball.stem('manges')"
   ]
  },
  {
   "cell_type": "code",
   "execution_count": null,
   "id": "18c71013-3751-42e1-b48f-ddf62fa502b2",
   "metadata": {},
   "outputs": [],
   "source": []
  }
 ],
 "metadata": {
  "kernelspec": {
   "display_name": "Python 3 (ipykernel)",
   "language": "python",
   "name": "python3"
  },
  "language_info": {
   "codemirror_mode": {
    "name": "ipython",
    "version": 3
   },
   "file_extension": ".py",
   "mimetype": "text/x-python",
   "name": "python",
   "nbconvert_exporter": "python",
   "pygments_lexer": "ipython3",
   "version": "3.10.4"
  }
 },
 "nbformat": 4,
 "nbformat_minor": 5
}
