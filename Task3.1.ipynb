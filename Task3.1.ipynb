{
 "cells": [
  {
   "cell_type": "code",
   "execution_count": 19,
   "id": "133a87fe-0249-48e9-b048-8718ca9c98bf",
   "metadata": {},
   "outputs": [],
   "source": [
    "import nltk\n",
    "import pandas as pd"
   ]
  },
  {
   "cell_type": "code",
   "execution_count": 2,
   "id": "c9677a61-708b-42f3-a921-c70dadf541fd",
   "metadata": {},
   "outputs": [],
   "source": [
    "from nltk.corpus import brown\n"
   ]
  },
  {
   "cell_type": "code",
   "execution_count": 5,
   "id": "bd79f512-a036-4cf4-afe6-82e2e8ac746c",
   "metadata": {},
   "outputs": [
    {
     "data": {
      "text/plain": [
       "['Dan',\n",
       " 'Morgan',\n",
       " 'told',\n",
       " 'himself',\n",
       " 'he',\n",
       " 'would',\n",
       " 'forget',\n",
       " 'Ann',\n",
       " 'Turner',\n",
       " '.',\n",
       " 'He',\n",
       " 'was',\n",
       " 'well',\n",
       " 'rid',\n",
       " 'of',\n",
       " 'her',\n",
       " '.',\n",
       " 'He',\n",
       " 'certainly',\n",
       " \"didn't\"]"
      ]
     },
     "execution_count": 5,
     "metadata": {},
     "output_type": "execute_result"
    }
   ],
   "source": [
    "brown.categories()\n",
    "brown.words(categories='adventure')[:20]\n",
    "\n"
   ]
  },
  {
   "cell_type": "code",
   "execution_count": 6,
   "id": "35fc00ed-a2e7-4c4b-ae4b-d770f8bd89c5",
   "metadata": {},
   "outputs": [
    {
     "data": {
      "text/plain": [
       "['My',\n",
       " 'fellow',\n",
       " 'citizens',\n",
       " ':',\n",
       " 'I',\n",
       " 'stand',\n",
       " 'here',\n",
       " 'today',\n",
       " 'humbled',\n",
       " 'by']"
      ]
     },
     "execution_count": 6,
     "metadata": {},
     "output_type": "execute_result"
    }
   ],
   "source": [
    "from nltk.corpus import inaugural\n",
    "inaugural.fileids()\n",
    "inaugural.words(fileids='2009-Obama.txt')[:10]"
   ]
  },
  {
   "cell_type": "code",
   "execution_count": 8,
   "id": "8c582d74-4914-4034-af7a-5a72fd924961",
   "metadata": {},
   "outputs": [],
   "source": [
    "#Find frequency distribution\n",
    "text1=\"Artificial intelligence and music (AIM) is a common subject in the International Computer Music Conference, the Computing Society Conference[1] and the International Joint Conference on Artificial Intelligence. The first International Computer Music Conference (ICMC) was held in 1974 at Michigan State University.[2] Current research includes the application of AI in music composition, performance, theory and digital sound processing.A key part of this field is the development of music software programs which use AI to produce music.[3] As with applications in other fields, AI in music also simulates mental tasks. A prominent feature is the capability of an AI algorithm to learn based on past data, such as in computer accompaniment technology, wherein the AI is capable of listening to a human performer and performing accompaniment.[4] Artificial intelligence also drives interactive composition technology, wherein a computer composes music in response to a live performance. There are other AI applications in music that cover not only music composition, production, and performance but also how music is marketed and consumed. Several music player programs have also been developed to use voice recognition and natural language processing technology for music voice control.\"# get a random wiki text\n",
    "fd=nltk.FreqDist(text1.split())"
   ]
  },
  {
   "cell_type": "code",
   "execution_count": 22,
   "id": "bd9e49b2-d5e2-41b4-94eb-956248f36e8e",
   "metadata": {},
   "outputs": [
    {
     "name": "stdout",
     "output_type": "stream",
     "text": [
      "             Word  Frequency\n",
      "0      Artificial          3\n",
      "1    intelligence          2\n",
      "2             and          7\n",
      "3           music         10\n",
      "4           (AIM)          1\n",
      "..            ...        ...\n",
      "114      language          1\n",
      "115    processing          1\n",
      "116    technology          1\n",
      "117           for          1\n",
      "118      control.          1\n",
      "\n",
      "[119 rows x 2 columns]\n"
     ]
    }
   ],
   "source": [
    "FreqDist=pd.DataFrame(list(fd.items()), columns = [\"Word\",\"Frequency\"]) \n",
    "print(FreqDist)"
   ]
  },
  {
   "cell_type": "code",
   "execution_count": null,
   "id": "d473fbd0-8f5b-47a5-9a4d-a11f274afb2a",
   "metadata": {},
   "outputs": [],
   "source": []
  },
  {
   "cell_type": "code",
   "execution_count": 9,
   "id": "1e973fd1-2f00-4de8-83a3-69e9a478b659",
   "metadata": {},
   "outputs": [
    {
     "name": "stdout",
     "output_type": "stream",
     "text": [
      "<FreqDist with 119 samples and 188 outcomes>\n"
     ]
    }
   ],
   "source": [
    "print(fd)"
   ]
  },
  {
   "cell_type": "code",
   "execution_count": 12,
   "id": "3664c231-a3b8-4b93-8094-afba278c3e50",
   "metadata": {},
   "outputs": [
    {
     "data": {
      "text/plain": [
       "FreqDist({'music': 10, 'in': 8, 'and': 7, 'the': 7, 'AI': 6, 'is': 5, 'of': 5, 'to': 5, 'a': 4, 'also': 4, ...})"
      ]
     },
     "execution_count": 12,
     "metadata": {},
     "output_type": "execute_result"
    }
   ],
   "source": [
    "fd"
   ]
  },
  {
   "cell_type": "code",
   "execution_count": 15,
   "id": "6a0ca1bd-8fe9-4ec7-8fec-8dbe78f71d77",
   "metadata": {},
   "outputs": [],
   "source": [
    "from nltk.probability import ConditionalFreqDist\n",
    "cfd=ConditionalFreqDist((len(word),word) for word in text1.split())"
   ]
  },
  {
   "cell_type": "code",
   "execution_count": 16,
   "id": "8f6b8a5a-5a1e-4797-930a-2e0247f062a3",
   "metadata": {},
   "outputs": [
    {
     "data": {
      "text/plain": [
       "FreqDist({'and': 7, 'the': 7, 'use': 2, 'The': 1, 'was': 1, 'key': 1, 'are': 1, 'not': 1, 'but': 1, 'how': 1, ...})"
      ]
     },
     "execution_count": 16,
     "metadata": {},
     "output_type": "execute_result"
    }
   ],
   "source": [
    "cfd[3]"
   ]
  },
  {
   "cell_type": "code",
   "execution_count": null,
   "id": "2bad5d82-dd24-4c70-bc3c-5ecbcb94f93d",
   "metadata": {},
   "outputs": [],
   "source": []
  }
 ],
 "metadata": {
  "kernelspec": {
   "display_name": "Python 3 (ipykernel)",
   "language": "python",
   "name": "python3"
  },
  "language_info": {
   "codemirror_mode": {
    "name": "ipython",
    "version": 3
   },
   "file_extension": ".py",
   "mimetype": "text/x-python",
   "name": "python",
   "nbconvert_exporter": "python",
   "pygments_lexer": "ipython3",
   "version": "3.10.4"
  }
 },
 "nbformat": 4,
 "nbformat_minor": 5
}
