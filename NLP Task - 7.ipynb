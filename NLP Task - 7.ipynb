{
 "cells": [
  {
   "cell_type": "markdown",
   "id": "a6767291-34ea-4ef7-987f-a0efc2fa411a",
   "metadata": {},
   "source": [
    "NLP Task - 7"
   ]
  },
  {
   "cell_type": "markdown",
   "id": "f62f95f4-d919-4421-b3e0-b7abb4bd2967",
   "metadata": {},
   "source": [
    "Stemming Paragraphs"
   ]
  },
  {
   "cell_type": "code",
   "execution_count": 123,
   "id": "5684c972-b321-4e70-bc70-a88187b8db0b",
   "metadata": {},
   "outputs": [],
   "source": [
    "import nltk\n",
    "from nltk.stem import PorterStemmer\n"
   ]
  },
  {
   "cell_type": "code",
   "execution_count": 124,
   "id": "d43e7b88-0991-45e1-996a-2e0b47d365b6",
   "metadata": {},
   "outputs": [],
   "source": [
    "stemmer=PorterStemmer()\n",
    "ex=\"The quick brown fox jumps over a lazy dog\"\n",
    "ex=[stemmer.stem(token) for token in ex.split(\" \")]\n"
   ]
  },
  {
   "cell_type": "code",
   "execution_count": 125,
   "id": "42952444-95b5-42ee-ad10-e3cf00a83673",
   "metadata": {},
   "outputs": [
    {
     "name": "stdout",
     "output_type": "stream",
     "text": [
      "the quick brown fox jump over a lazi dog\n"
     ]
    }
   ],
   "source": [
    "print(\" \".join(ex))"
   ]
  },
  {
   "cell_type": "markdown",
   "id": "6deb7559-0748-4fe0-b738-41c12ad72f58",
   "metadata": {},
   "source": [
    "The Text"
   ]
  },
  {
   "cell_type": "code",
   "execution_count": 132,
   "id": "b855103d-6bbe-40d5-976d-f969de950016",
   "metadata": {},
   "outputs": [],
   "source": [
    "path_to_file=\"NLP-T7.txt\""
   ]
  },
  {
   "cell_type": "code",
   "execution_count": 133,
   "id": "288495fb-f901-445d-9c0b-79424641fc02",
   "metadata": {},
   "outputs": [],
   "source": [
    "with open(path_to_file) as f:\n",
    "    contents = f.readlines()\n",
    "    "
   ]
  },
  {
   "cell_type": "code",
   "execution_count": 134,
   "id": "f8a0f19b-b8e9-489b-8f24-6e7032710ea0",
   "metadata": {},
   "outputs": [
    {
     "name": "stdout",
     "output_type": "stream",
     "text": [
      "Explainable artificial intelligence (XAI) is a set of processes and methods that allows human users to comprehend and trust the results and output created by machine learning algorithms. Explainable AI is used to describe an AI model, its expected impact and potential biases. It helps characterize model accuracy, fairness, transparency and outcomes in AI-powered decision making. Explainable AI is crucial for an organization in building trust and confidence when putting AI models into production. AI explainability also helps an organization adopt a responsible approach to AI development.\n",
      " \n",
      " As AI becomes more advanced, humans are challenged to comprehend and retrace how the algorithm came to a result. The whole calculation process is turned into what is commonly referred to as a â€œblack box\" that is impossible to interpret. These black box models are created directly from the data. And, not even the engineers or data scientists who create the algorithm can understand or explain what exactly is happening inside them or how the AI algorithm arrived at a specific result.\n"
     ]
    }
   ],
   "source": [
    "print(\" \".join(contents))\n",
    "contents=(\" \".join(contents))"
   ]
  },
  {
   "cell_type": "markdown",
   "id": "81e931d3-1b53-4865-8f44-ff5fd2820534",
   "metadata": {},
   "source": [
    "Stemming:"
   ]
  },
  {
   "cell_type": "code",
   "execution_count": 135,
   "id": "5c91ed65-8a20-4202-ba0e-6876a710f63b",
   "metadata": {},
   "outputs": [],
   "source": [
    "stemmed=[stemmer.stem(token) for token in contents.split(\" \")]\n"
   ]
  },
  {
   "cell_type": "code",
   "execution_count": 136,
   "id": "62328079-44d9-4cc0-a10d-dd323bc1f21f",
   "metadata": {},
   "outputs": [
    {
     "name": "stdout",
     "output_type": "stream",
     "text": [
      "explain artifici intellig (xai) is a set of process and method that allow human user to comprehend and trust the result and output creat by machin learn algorithms. explain ai is use to describ an ai model, it expect impact and potenti biases. it help character model accuracy, fairness, transpar and outcom in ai-pow decis making. explain ai is crucial for an organ in build trust and confid when put ai model into production. ai explain also help an organ adopt a respons approach to ai development.\n",
      " \n",
      " as ai becom more advanced, human are challeng to comprehend and retrac how the algorithm came to a result. the whole calcul process is turn into what is commonli refer to as a â€œblack box\" that is imposs to interpret. these black box model are creat directli from the data. and, not even the engin or data scientist who creat the algorithm can understand or explain what exactli is happen insid them or how the ai algorithm arriv at a specif result. "
     ]
    }
   ],
   "source": [
    "for i in stemmed:\n",
    "    print(i,end=' ')"
   ]
  },
  {
   "cell_type": "code",
   "execution_count": null,
   "id": "7d5704ca-4a34-4f8a-8ed4-abe2a3c1c958",
   "metadata": {},
   "outputs": [],
   "source": []
  }
 ],
 "metadata": {
  "kernelspec": {
   "display_name": "Python 3 (ipykernel)",
   "language": "python",
   "name": "python3"
  },
  "language_info": {
   "codemirror_mode": {
    "name": "ipython",
    "version": 3
   },
   "file_extension": ".py",
   "mimetype": "text/x-python",
   "name": "python",
   "nbconvert_exporter": "python",
   "pygments_lexer": "ipython3",
   "version": "3.10.4"
  }
 },
 "nbformat": 4,
 "nbformat_minor": 5
}
